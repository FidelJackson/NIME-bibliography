{
 "cells": [
  {
   "cell_type": "markdown",
   "metadata": {},
   "source": [
    "# Find all bibtex IDs\n",
    "\n",
    "Just to help figure out standard IDs for NIME papers, just going to print a big list."
   ]
  },
  {
   "cell_type": "code",
   "execution_count": null,
   "metadata": {},
   "outputs": [],
   "source": [
    "import glob\n",
    "import bibtexparser\n",
    "import utils\n",
    "import pandas as pd\n",
    "\n",
    "bibfiles = []\n",
    "bibdatabases = {}\n",
    "for file in glob.glob(\"../paper_proceedings/*.bib\"):\n",
    "    bibfiles.append(file)\n",
    "\n",
    "#utils.writer.order_entries_by = (\"ID\")\n"
   ]
  },
  {
   "cell_type": "code",
   "execution_count": null,
   "metadata": {},
   "outputs": [],
   "source": [
    "# List all IDs by year\n",
    "ids = {}\n",
    "\n",
    "for bf in bibfiles:\n",
    "    print(bf)\n",
    "    ids[bf] = []\n",
    "    with open(bf) as bibtex_file:\n",
    "        bib_database = bibtexparser.bparser.BibTexParser(common_strings=True).parse_file(bibtex_file)\n",
    "    bibdatabases[bf] = bib_database    \n",
    "    for e in bib_database.entries:\n",
    "        ids[bf].append(e['ID'])\n",
    "        #add_keys(e, keys)\n",
    "    print(ids[bf])\n",
    "\n",
    "entry_keys = list(keys)\n",
    "entry_keys.sort()\n",
    "print(\"\\nAnd here's the keys:\\n\")\n",
    "display(entry_keys)"
   ]
  },
  {
   "cell_type": "code",
   "execution_count": null,
   "metadata": {},
   "outputs": [],
   "source": [
    "# Load all bibfiles\n",
    "bibfiles = []\n",
    "bibdatabases = {}\n",
    "for file in glob.glob(\"../paper_proceedings/*.bib\"):\n",
    "    bibfiles.append(file)\n",
    "\n",
    "def fix_ids_in_bibtex_file(bf):\n",
    "    changed = False\n",
    "    # load bibtex file\n",
    "    with open(bf) as bibtex_file:\n",
    "        bib_database = bibtexparser.bparser.BibTexParser(common_strings=True).parse_file(bibtex_file)\n",
    "    # adjust IDs\n",
    "    for e in bib_database.entries:\n",
    "        id_old = e['ID']\n",
    "        # Remove colons and hyphens\n",
    "        id_new = \"\".join(u for u in id_old if u not in (\":\",\"-\"))\n",
    "        e['ID'] = id_new\n",
    "        # make lowercase\n",
    "        if (id_new != id_old):\n",
    "            changed = True\n",
    "            print(\"CHANGED: \", id_new)\n",
    "    # write back bibtex file\n",
    "    if changed:\n",
    "        with open(bf, 'w') as bibtex_file:\n",
    "            bibtex_file.write(utils.writer.write(bib_database))\n",
    "\n",
    "for bf in bibfiles:\n",
    "    print(bf)\n",
    "    fix_ids_in_bibtex_file(bf)\n",
    "\n",
    "print(\"done\")"
   ]
  }
 ],
 "metadata": {
  "kernelspec": {
   "display_name": "Python 3",
   "language": "python",
   "name": "python3"
  },
  "language_info": {
   "codemirror_mode": {
    "name": "ipython",
    "version": 3
   },
   "file_extension": ".py",
   "mimetype": "text/x-python",
   "name": "python",
   "nbconvert_exporter": "python",
   "pygments_lexer": "ipython3",
   "version": "3.8.7"
  }
 },
 "nbformat": 4,
 "nbformat_minor": 4
}
