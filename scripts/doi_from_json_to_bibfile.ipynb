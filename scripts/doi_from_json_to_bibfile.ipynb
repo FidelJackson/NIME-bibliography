{
 "cells": [
  {
   "cell_type": "markdown",
   "metadata": {},
   "source": [
    "# Adds DOIs from JSON dictionary to a bibfile automatically\n",
    "\n",
    "Expects the json file to be of the format {PDF-filename: doi,...}"
   ]
  },
  {
   "cell_type": "code",
   "execution_count": null,
   "metadata": {},
   "outputs": [],
   "source": [
    "## parameters\n",
    "year = 2020\n",
    "doi_file = \"../doi_file2020.json\""
   ]
  },
  {
   "cell_type": "code",
   "execution_count": null,
   "metadata": {},
   "outputs": [],
   "source": [
    "import glob\n",
    "import bibtexparser\n",
    "import utils\n",
    "import pandas as pd\n",
    "import json\n",
    "\n",
    "bibfile = f\"../paper_proceedings/nime{year}.bib\"\n",
    "\n",
    "with open(doi_file) as f:\n",
    "  doi_dict = json.load(f)\n",
    "\n",
    "with open(bibfile) as bibtex_file:\n",
    "    bib_database = bibtexparser.bparser.BibTexParser(common_strings=True).parse_file(bibtex_file)\n",
    "    \n",
    "def extract_pdf_filename(url_field):\n",
    "    return url_field.split('/')[-1]\n",
    "\n",
    "for e in bib_database.entries:\n",
    "    pdf_filename = extract_pdf_filename(e['url'])\n",
    "    doi = doi_dict[pdf_filename]\n",
    "    e['doi'] = doi\n",
    "    print(pdf_filename, doi)\n",
    "    \n",
    "with open(bibfile, 'w') as bibtex_file:\n",
    "            bibtex_file.write(utils.writer.write(bib_database))\n",
    "        \n",
    "print(\"done!\")"
   ]
  }
 ],
 "metadata": {
  "kernelspec": {
   "display_name": "Python 3",
   "language": "python",
   "name": "python3"
  },
  "language_info": {
   "codemirror_mode": {
    "name": "ipython",
    "version": 3
   },
   "file_extension": ".py",
   "mimetype": "text/x-python",
   "name": "python",
   "nbconvert_exporter": "python",
   "pygments_lexer": "ipython3",
   "version": "3.8.10"
  }
 },
 "nbformat": 4,
 "nbformat_minor": 4
}
